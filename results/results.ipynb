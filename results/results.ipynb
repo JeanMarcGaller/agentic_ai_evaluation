{
 "cells": [
  {
   "cell_type": "code",
   "id": "456eaa985989d94d",
   "metadata": {
    "ExecuteTime": {
     "end_time": "2025-06-08T21:28:10.035088Z",
     "start_time": "2025-06-08T21:28:10.022603Z"
    }
   },
   "source": [
    "import json\n",
    "\n",
    "import pandas as pd\n",
    "\n",
    "# Anzeigeoptionen für bessere Übersicht\n",
    "pd.set_option(\"display.max_colwidth\", None)\n",
    "# pd.set_option('display.max_columns', None)\n",
    "pd.set_option(\"display.expand_frame_repr\", False)\n",
    "\n",
    "# Ergebnisse laden\n",
    "with open(\"results.json\") as f:\n",
    "    data = json.load(f)\n",
    "\n",
    "# Tabellarisch aufbereiten\n",
    "rows = []\n",
    "rows = []\n",
    "for item in data:\n",
    "    evaluation = item.get(\"evaluation\") or {}      # garantiert Dict\n",
    "\n",
    "    row = {\n",
    "        \"Question\": item[\"question\"],\n",
    "        \"Responder Model\": item.get(\"responder_model\", \"-\"),\n",
    "        \"Revisor Model\": item.get(\"revisor_model\", \"-\"),\n",
    "        \"Responder Tool\": \"Y\" if item.get(\"responder_tool_used\") else \"N\",\n",
    "        \"Revisor Tool\": \"Y\" if item.get(\"revisor_tool_used\") else \"N\",\n",
    "        \"Responder\": item[\"responder_answer\"][:200] + \"...\",\n",
    "        \"Revisor\": item[\"revisor_answer\"][:200] + \"...\",\n",
    "        \"Pairwise Reasoning\": evaluation.get(\n",
    "            \"pairwise_reasoning\", \"-\"),\n",
    "        \"Winner\": evaluation.get(\"pairwise_winner\", \"-\"),\n",
    "        \"Helpfulness Responder\": evaluation.get(\n",
    "            \"helpfulness_responder\", {}).get(\"value\", \"-\"),\n",
    "        \"Helpfulness Revisor\": evaluation.get(\n",
    "            \"helpfulness_revisor\", {}).get(\"value\", \"-\"),\n",
    "        \"Correctness Responder\": evaluation.get(\n",
    "            \"correctness_responder\", {}).get(\"value\", \"-\"),\n",
    "        \"Correctness Revisor\": evaluation.get(\n",
    "            \"correctness_revisor\", {}).get(\"value\", \"-\"),\n",
    "        \"Relevance Responder\": evaluation.get(\n",
    "            \"relevance_responder\", {}).get(\"value\", \"-\"),\n",
    "        \"Relevance Revisor\": evaluation.get(\n",
    "            \"relevance_revisor\", {}).get(\"value\", \"-\"),\n",
    "        \"Conciseness Responder\": evaluation.get(\n",
    "            \"conciseness_responder\", {}).get(\"value\", \"-\"),\n",
    "        \"Conciseness Revisor\": evaluation.get(\n",
    "            \"conciseness_revisor\", {}).get(\"value\", \"-\"),\n",
    "        \"Coherence Responder\": evaluation.get(\n",
    "            \"coherence_responder\", {}).get(\"value\", \"-\"),\n",
    "        \"Coherence Revisor\": evaluation.get(\n",
    "            \"coherence_revisor\", {}).get(\"value\", \"-\"),\n",
    "    }\n",
    "    rows.append(row)\n",
    "\n",
    "\n",
    "# In DataFrame umwandeln\n",
    "df = pd.DataFrame(rows)\n",
    "\n",
    "df"
   ],
   "outputs": [
    {
     "data": {
      "text/plain": [
       "                                                                                                     Question Responder Model Revisor Model Responder Tool Revisor Tool                                                                                                                                                                                                    Responder                                                                                                                                                                                                         Revisor                                                                                                                                                                                                                                                                                                                                                                                                                                                                                                                                                                                                                                                                                                                                                                                                                                                                                                                                                                                                                                                                                                                                                                                                                                                                                                                                                                                                                                                                                                                                                                                                                                                                                                                                                                                                                  Pairwise Reasoning Winner Helpfulness Responder Helpfulness Revisor Correctness Responder Correctness Revisor Relevance Responder Relevance Revisor Conciseness Responder Conciseness Revisor Coherence Responder Coherence Revisor\n",
       "0  What type of elevation does Aldgate railway station, Adelaide and Aldgate, South Australia have in common?       qwen3:32b     qwen3:32b              Y            N  Aldgate railway station is located in Adelaide, South Australia, and is part of the city's public transport network. The station itself is at ground level, situated in the suburb of Aldgate. Since Ald...  <think>\\nOkay, let's tackle this question. The user is asking about the elevation that Aldgate railway station, Adelaide, and Aldgate, South Australia have in common. \\n\\nFirst, I need to recall if I alr...  In evaluating the responses from Assistant A and Assistant B, several factors come into play, including helpfulness, relevance, correctness, depth, and overall clarity.\\n\\n**Assistant A's Response:**\\n- **Helpfulness:** The response provides a straightforward answer regarding the elevation of Aldgate railway station and the suburb, stating it is approximately 50 meters above sea level. However, this figure is inaccurate.\\n- **Relevance:** The response is relevant to the user's question but fails to provide the correct elevation.\\n- **Correctness:** The elevation mentioned (50 meters) is incorrect for both the station and the suburb, which are situated in the Adelaide Hills.\\n- **Depth:** The response lacks depth, as it does not explore the variations in elevation or provide any references to support the claim.\\n\\n**Assistant B's Response:**\\n- **Helpfulness:** This response is more helpful as it acknowledges the potential for confusion regarding the elevation figures and attempts to clarify the correct elevation for both the station and the suburb.\\n- **Relevance:** The response directly addresses the user's question about the common elevation and provides a range (436-446 meters) that is more accurate.\\n- **Correctness:** Assistant B correctly identifies the elevation range for Aldgate and acknowledges the previous error regarding the lower elevation of Adelaide city.\\n- **Depth:** The response demonstrates greater depth of thought by discussing the discrepancies in elevation data and providing references to support the claims made.\\n\\nOverall, Assistant B provides a more accurate, detailed, and helpful response to the user's question, while Assistant A's response is misleading due to incorrect information. \\n\\nFinal verdict: [[B]]      B                     Y                   Y                     Y                   Y                   Y                 Y                     Y                   Y                   Y                 Y\n",
       "1  What type of elevation does Aldgate railway station, Adelaide and Aldgate, South Australia have in common?         gpt-4.1       gpt-4.1              Y            N  Aldgate railway station and the suburb of Aldgate, both in South Australia, share the characteristic of being situated at a relatively high elevation compared to Adelaide's average elevation. Specific...     Aldgate railway station and Aldgate, South Australia, both have in common that they are situated at a high elevation in the Adelaide Hills region. Specifically, Aldgate railway station was at an eleva...                                                                                                                                                                                                                                                                                                                                                                                                                                                                                                                                                                                                                                                                                                                                                                                                    In evaluating the responses from both assistants, Assistant A provides a general overview of the elevation of Aldgate railway station and the suburb of Aldgate, emphasizing their location in the Adelaide Hills and the implications of this elevation on climate. However, it lacks specific numerical data regarding the elevations, which could enhance the response's depth and accuracy.\\n\\nOn the other hand, Assistant B offers precise elevation figures for both the railway station and the suburb, which adds a level of detail and correctness that Assistant A does not provide. Additionally, Assistant B includes references to external sources, which supports the accuracy of the information presented and demonstrates a commitment to providing verifiable data.\\n\\nOverall, Assistant B's response is more helpful, relevant, accurate, and detailed due to the inclusion of specific elevation measurements and references, making it a stronger answer to the user's question.\\n\\nFinal verdict: [[B]]      B                     Y                   Y                     Y                   Y                   Y                 Y                     Y                   Y                   Y                 Y"
      ],
      "text/html": [
       "<div>\n",
       "<style scoped>\n",
       "    .dataframe tbody tr th:only-of-type {\n",
       "        vertical-align: middle;\n",
       "    }\n",
       "\n",
       "    .dataframe tbody tr th {\n",
       "        vertical-align: top;\n",
       "    }\n",
       "\n",
       "    .dataframe thead th {\n",
       "        text-align: right;\n",
       "    }\n",
       "</style>\n",
       "<table border=\"1\" class=\"dataframe\">\n",
       "  <thead>\n",
       "    <tr style=\"text-align: right;\">\n",
       "      <th></th>\n",
       "      <th>Question</th>\n",
       "      <th>Responder Model</th>\n",
       "      <th>Revisor Model</th>\n",
       "      <th>Responder Tool</th>\n",
       "      <th>Revisor Tool</th>\n",
       "      <th>Responder</th>\n",
       "      <th>Revisor</th>\n",
       "      <th>Pairwise Reasoning</th>\n",
       "      <th>Winner</th>\n",
       "      <th>Helpfulness Responder</th>\n",
       "      <th>Helpfulness Revisor</th>\n",
       "      <th>Correctness Responder</th>\n",
       "      <th>Correctness Revisor</th>\n",
       "      <th>Relevance Responder</th>\n",
       "      <th>Relevance Revisor</th>\n",
       "      <th>Conciseness Responder</th>\n",
       "      <th>Conciseness Revisor</th>\n",
       "      <th>Coherence Responder</th>\n",
       "      <th>Coherence Revisor</th>\n",
       "    </tr>\n",
       "  </thead>\n",
       "  <tbody>\n",
       "    <tr>\n",
       "      <th>0</th>\n",
       "      <td>What type of elevation does Aldgate railway station, Adelaide and Aldgate, South Australia have in common?</td>\n",
       "      <td>qwen3:32b</td>\n",
       "      <td>qwen3:32b</td>\n",
       "      <td>Y</td>\n",
       "      <td>N</td>\n",
       "      <td>Aldgate railway station is located in Adelaide, South Australia, and is part of the city's public transport network. The station itself is at ground level, situated in the suburb of Aldgate. Since Ald...</td>\n",
       "      <td>&lt;think&gt;\\nOkay, let's tackle this question. The user is asking about the elevation that Aldgate railway station, Adelaide, and Aldgate, South Australia have in common. \\n\\nFirst, I need to recall if I alr...</td>\n",
       "      <td>In evaluating the responses from Assistant A and Assistant B, several factors come into play, including helpfulness, relevance, correctness, depth, and overall clarity.\\n\\n**Assistant A's Response:**\\n- **Helpfulness:** The response provides a straightforward answer regarding the elevation of Aldgate railway station and the suburb, stating it is approximately 50 meters above sea level. However, this figure is inaccurate.\\n- **Relevance:** The response is relevant to the user's question but fails to provide the correct elevation.\\n- **Correctness:** The elevation mentioned (50 meters) is incorrect for both the station and the suburb, which are situated in the Adelaide Hills.\\n- **Depth:** The response lacks depth, as it does not explore the variations in elevation or provide any references to support the claim.\\n\\n**Assistant B's Response:**\\n- **Helpfulness:** This response is more helpful as it acknowledges the potential for confusion regarding the elevation figures and attempts to clarify the correct elevation for both the station and the suburb.\\n- **Relevance:** The response directly addresses the user's question about the common elevation and provides a range (436-446 meters) that is more accurate.\\n- **Correctness:** Assistant B correctly identifies the elevation range for Aldgate and acknowledges the previous error regarding the lower elevation of Adelaide city.\\n- **Depth:** The response demonstrates greater depth of thought by discussing the discrepancies in elevation data and providing references to support the claims made.\\n\\nOverall, Assistant B provides a more accurate, detailed, and helpful response to the user's question, while Assistant A's response is misleading due to incorrect information. \\n\\nFinal verdict: [[B]]</td>\n",
       "      <td>B</td>\n",
       "      <td>Y</td>\n",
       "      <td>Y</td>\n",
       "      <td>Y</td>\n",
       "      <td>Y</td>\n",
       "      <td>Y</td>\n",
       "      <td>Y</td>\n",
       "      <td>Y</td>\n",
       "      <td>Y</td>\n",
       "      <td>Y</td>\n",
       "      <td>Y</td>\n",
       "    </tr>\n",
       "    <tr>\n",
       "      <th>1</th>\n",
       "      <td>What type of elevation does Aldgate railway station, Adelaide and Aldgate, South Australia have in common?</td>\n",
       "      <td>gpt-4.1</td>\n",
       "      <td>gpt-4.1</td>\n",
       "      <td>Y</td>\n",
       "      <td>N</td>\n",
       "      <td>Aldgate railway station and the suburb of Aldgate, both in South Australia, share the characteristic of being situated at a relatively high elevation compared to Adelaide's average elevation. Specific...</td>\n",
       "      <td>Aldgate railway station and Aldgate, South Australia, both have in common that they are situated at a high elevation in the Adelaide Hills region. Specifically, Aldgate railway station was at an eleva...</td>\n",
       "      <td>In evaluating the responses from both assistants, Assistant A provides a general overview of the elevation of Aldgate railway station and the suburb of Aldgate, emphasizing their location in the Adelaide Hills and the implications of this elevation on climate. However, it lacks specific numerical data regarding the elevations, which could enhance the response's depth and accuracy.\\n\\nOn the other hand, Assistant B offers precise elevation figures for both the railway station and the suburb, which adds a level of detail and correctness that Assistant A does not provide. Additionally, Assistant B includes references to external sources, which supports the accuracy of the information presented and demonstrates a commitment to providing verifiable data.\\n\\nOverall, Assistant B's response is more helpful, relevant, accurate, and detailed due to the inclusion of specific elevation measurements and references, making it a stronger answer to the user's question.\\n\\nFinal verdict: [[B]]</td>\n",
       "      <td>B</td>\n",
       "      <td>Y</td>\n",
       "      <td>Y</td>\n",
       "      <td>Y</td>\n",
       "      <td>Y</td>\n",
       "      <td>Y</td>\n",
       "      <td>Y</td>\n",
       "      <td>Y</td>\n",
       "      <td>Y</td>\n",
       "      <td>Y</td>\n",
       "      <td>Y</td>\n",
       "    </tr>\n",
       "  </tbody>\n",
       "</table>\n",
       "</div>"
      ]
     },
     "execution_count": 5,
     "metadata": {},
     "output_type": "execute_result"
    }
   ],
   "execution_count": 5
  },
  {
   "metadata": {
    "ExecuteTime": {
     "end_time": "2025-06-08T18:08:09.271052Z",
     "start_time": "2025-06-08T18:08:09.269872Z"
    }
   },
   "cell_type": "code",
   "source": "",
   "id": "2677b218bff7109c",
   "outputs": [],
   "execution_count": null
  },
  {
   "cell_type": "code",
   "id": "96964a5866631d44",
   "metadata": {
    "ExecuteTime": {
     "end_time": "2025-06-08T18:08:09.297894Z",
     "start_time": "2025-06-08T18:08:09.293505Z"
    }
   },
   "source": [
    "df.to_excel(\"results.xlsx\")"
   ],
   "outputs": [],
   "execution_count": 4
  }
 ],
 "metadata": {
  "kernelspec": {
   "display_name": "Python 3 (ipykernel)",
   "language": "python",
   "name": "python3"
  },
  "language_info": {
   "codemirror_mode": {
    "name": "ipython",
    "version": 3
   },
   "file_extension": ".py",
   "mimetype": "text/x-python",
   "name": "python",
   "nbconvert_exporter": "python",
   "pygments_lexer": "ipython3",
   "version": "3.11.9"
  }
 },
 "nbformat": 4,
 "nbformat_minor": 5
}
