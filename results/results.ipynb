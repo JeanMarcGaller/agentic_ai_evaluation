{
 "cells": [
  {
   "cell_type": "code",
   "id": "456eaa985989d94d",
   "metadata": {
    "ExecuteTime": {
     "end_time": "2025-06-08T05:44:07.190836Z",
     "start_time": "2025-06-08T05:44:06.996786Z"
    }
   },
   "source": [
    "import json\n",
    "\n",
    "import pandas as pd\n",
    "\n",
    "# Anzeigeoptionen für bessere Übersicht\n",
    "pd.set_option(\"display.max_colwidth\", None)\n",
    "# pd.set_option('display.max_columns', None)\n",
    "pd.set_option(\"display.expand_frame_repr\", False)\n",
    "\n",
    "# Ergebnisse laden\n",
    "with open(\"results.json\") as f:\n",
    "    data = json.load(f)\n",
    "\n",
    "# Tabellarisch aufbereiten\n",
    "rows = []\n",
    "rows = []\n",
    "for item in data:\n",
    "    evaluation = item.get(\"evaluation\") or {}      # garantiert Dict\n",
    "\n",
    "    row = {\n",
    "        \"Question\": item[\"question\"],\n",
    "        \"Responder Model\": item.get(\"responder_model\", \"-\"),\n",
    "        \"Revisor Model\": item.get(\"revisor_model\", \"-\"),\n",
    "        \"Responder Tool\": \"Y\" if item.get(\"responder_tool_used\") else \"N\",\n",
    "        \"Revisor Tool\": \"Y\" if item.get(\"revisor_tool_used\") else \"N\",\n",
    "        \"Responder\": item[\"responder_answer\"][:200] + \"...\",\n",
    "        \"Revisor\": item[\"revisor_answer\"][:200] + \"...\",\n",
    "        \"Pairwise Reasoning\": evaluation.get(\n",
    "            \"pairwise_reasoning\", \"-\"),\n",
    "        \"Winner\": evaluation.get(\"pairwise_winner\", \"-\"),\n",
    "        \"Helpfulness Responder\": evaluation.get(\n",
    "            \"helpfulness_responder\", {}).get(\"value\", \"-\"),\n",
    "        \"Helpfulness Revisor\": evaluation.get(\n",
    "            \"helpfulness_revisor\", {}).get(\"value\", \"-\"),\n",
    "        \"Correctness Responder\": evaluation.get(\n",
    "            \"correctness_responder\", {}).get(\"value\", \"-\"),\n",
    "        \"Correctness Revisor\": evaluation.get(\n",
    "            \"correctness_revisor\", {}).get(\"value\", \"-\"),\n",
    "        \"Relevance Responder\": evaluation.get(\n",
    "            \"relevance_responder\", {}).get(\"value\", \"-\"),\n",
    "        \"Relevance Revisor\": evaluation.get(\n",
    "            \"relevance_revisor\", {}).get(\"value\", \"-\"),\n",
    "        \"Conciseness Responder\": evaluation.get(\n",
    "            \"conciseness_responder\", {}).get(\"value\", \"-\"),\n",
    "        \"Conciseness Revisor\": evaluation.get(\n",
    "            \"conciseness_revisor\", {}).get(\"value\", \"-\"),\n",
    "        \"Coherence Responder\": evaluation.get(\n",
    "            \"coherence_responder\", {}).get(\"value\", \"-\"),\n",
    "        \"Coherence Revisor\": evaluation.get(\n",
    "            \"coherence_revisor\", {}).get(\"value\", \"-\"),\n",
    "    }\n",
    "    rows.append(row)\n",
    "\n",
    "\n",
    "# In DataFrame umwandeln\n",
    "df = pd.DataFrame(rows)\n",
    "\n",
    "df"
   ],
   "outputs": [
    {
     "data": {
      "text/plain": [
       "                                                                                          Question Responder Model Revisor Model Responder Tool Revisor Tool                                                                                                                                                                                                    Responder                                                                                                                                                                                                          Revisor                                                                                                                                                                                                                                                                                                                                                                                                                                                                                                                                                                                                                                                                                         Pairwise Reasoning Winner Helpfulness Responder Helpfulness Revisor Correctness Responder Correctness Revisor Relevance Responder                                                                                      Relevance Revisor Conciseness Responder Conciseness Revisor Coherence Responder Coherence Revisor\n",
       "0  Blackfin is a family of processors developed by the company that is headquartered in what city?       qwen3:32b     qwen3:32b              Y            N  Blackfin is a family of embedded processors developed by Analog Devices Inc. Analog Devices is headquartered in Norwood, Massachusetts, USA. The Blackfin processors are designed for applications requi...   <think>\\nOkay, let's tackle this question. The user is asking about the headquarters of the company that developed the Blackfin processors.\\n\\nFirst, I remember that Blackfin is a processor family, and f...  Both assistants A and B responded to the question asked by the user accurately, however, assistant B showed a deeper understanding and thoroughly researched the question before providing the response. While assistant A correctly identified that Blackfin processors were developed by Analog Devices, they incorrectly identified the headquarters as being in Norwood, Massachusetts. Assistant B, in contrast, addressed the discrepancy in some sources about the headquarters location and confirmed, with references, that the correct location is Wilmington, Massachusetts. Therefore, assistant B has provided a more detailed, accurate, and in-depth response. My final verdict is: [[B]].      B                     Y                   Y                     Y                   Y                   Y  In conclusion, the submission meets all three criteria of being helpful, insightful, and appropriate.                     Y                   Y                   Y                 Y\n",
       "1  Blackfin is a family of processors developed by the company that is headquartered in what city?         gpt-4.1       gpt-4.1              Y            N                                                                                      Blackfin processors are developed by Analog Devices, Inc., which is headquartered in Wilmington, Massachusetts, USA....  Blackfin is a family of processors developed by Analog Devices, Inc., which is headquartered in Wilmington, Massachusetts, USA. \\n\\nReferences:\\n- https://en.wikipedia.org/wiki/Analog_Devices\\n- https://w...                                                                                                                                                       Both assistants provide correct and relevant responses to the user's question. They both accurately state that Blackfin processors are developed by Analog Devices, Inc, which is headquartered in Wilmington, Massachusetts, USA. However, Assistant B provides references to support their response, adding more depth and reliability to their submission and providing the user with places they can go for more information if needed. Therefore, Assistant B provides a more helpful and complete answer overall. The final verdict is: [[B]].      B                     Y                   Y                     Y                   Y                   Y                                                                                                      Y                     Y                   Y                   Y                 Y"
      ],
      "text/html": [
       "<div>\n",
       "<style scoped>\n",
       "    .dataframe tbody tr th:only-of-type {\n",
       "        vertical-align: middle;\n",
       "    }\n",
       "\n",
       "    .dataframe tbody tr th {\n",
       "        vertical-align: top;\n",
       "    }\n",
       "\n",
       "    .dataframe thead th {\n",
       "        text-align: right;\n",
       "    }\n",
       "</style>\n",
       "<table border=\"1\" class=\"dataframe\">\n",
       "  <thead>\n",
       "    <tr style=\"text-align: right;\">\n",
       "      <th></th>\n",
       "      <th>Question</th>\n",
       "      <th>Responder Model</th>\n",
       "      <th>Revisor Model</th>\n",
       "      <th>Responder Tool</th>\n",
       "      <th>Revisor Tool</th>\n",
       "      <th>Responder</th>\n",
       "      <th>Revisor</th>\n",
       "      <th>Pairwise Reasoning</th>\n",
       "      <th>Winner</th>\n",
       "      <th>Helpfulness Responder</th>\n",
       "      <th>Helpfulness Revisor</th>\n",
       "      <th>Correctness Responder</th>\n",
       "      <th>Correctness Revisor</th>\n",
       "      <th>Relevance Responder</th>\n",
       "      <th>Relevance Revisor</th>\n",
       "      <th>Conciseness Responder</th>\n",
       "      <th>Conciseness Revisor</th>\n",
       "      <th>Coherence Responder</th>\n",
       "      <th>Coherence Revisor</th>\n",
       "    </tr>\n",
       "  </thead>\n",
       "  <tbody>\n",
       "    <tr>\n",
       "      <th>0</th>\n",
       "      <td>Blackfin is a family of processors developed by the company that is headquartered in what city?</td>\n",
       "      <td>qwen3:32b</td>\n",
       "      <td>qwen3:32b</td>\n",
       "      <td>Y</td>\n",
       "      <td>N</td>\n",
       "      <td>Blackfin is a family of embedded processors developed by Analog Devices Inc. Analog Devices is headquartered in Norwood, Massachusetts, USA. The Blackfin processors are designed for applications requi...</td>\n",
       "      <td>&lt;think&gt;\\nOkay, let's tackle this question. The user is asking about the headquarters of the company that developed the Blackfin processors.\\n\\nFirst, I remember that Blackfin is a processor family, and f...</td>\n",
       "      <td>Both assistants A and B responded to the question asked by the user accurately, however, assistant B showed a deeper understanding and thoroughly researched the question before providing the response. While assistant A correctly identified that Blackfin processors were developed by Analog Devices, they incorrectly identified the headquarters as being in Norwood, Massachusetts. Assistant B, in contrast, addressed the discrepancy in some sources about the headquarters location and confirmed, with references, that the correct location is Wilmington, Massachusetts. Therefore, assistant B has provided a more detailed, accurate, and in-depth response. My final verdict is: [[B]].</td>\n",
       "      <td>B</td>\n",
       "      <td>Y</td>\n",
       "      <td>Y</td>\n",
       "      <td>Y</td>\n",
       "      <td>Y</td>\n",
       "      <td>Y</td>\n",
       "      <td>In conclusion, the submission meets all three criteria of being helpful, insightful, and appropriate.</td>\n",
       "      <td>Y</td>\n",
       "      <td>Y</td>\n",
       "      <td>Y</td>\n",
       "      <td>Y</td>\n",
       "    </tr>\n",
       "    <tr>\n",
       "      <th>1</th>\n",
       "      <td>Blackfin is a family of processors developed by the company that is headquartered in what city?</td>\n",
       "      <td>gpt-4.1</td>\n",
       "      <td>gpt-4.1</td>\n",
       "      <td>Y</td>\n",
       "      <td>N</td>\n",
       "      <td>Blackfin processors are developed by Analog Devices, Inc., which is headquartered in Wilmington, Massachusetts, USA....</td>\n",
       "      <td>Blackfin is a family of processors developed by Analog Devices, Inc., which is headquartered in Wilmington, Massachusetts, USA. \\n\\nReferences:\\n- https://en.wikipedia.org/wiki/Analog_Devices\\n- https://w...</td>\n",
       "      <td>Both assistants provide correct and relevant responses to the user's question. They both accurately state that Blackfin processors are developed by Analog Devices, Inc, which is headquartered in Wilmington, Massachusetts, USA. However, Assistant B provides references to support their response, adding more depth and reliability to their submission and providing the user with places they can go for more information if needed. Therefore, Assistant B provides a more helpful and complete answer overall. The final verdict is: [[B]].</td>\n",
       "      <td>B</td>\n",
       "      <td>Y</td>\n",
       "      <td>Y</td>\n",
       "      <td>Y</td>\n",
       "      <td>Y</td>\n",
       "      <td>Y</td>\n",
       "      <td>Y</td>\n",
       "      <td>Y</td>\n",
       "      <td>Y</td>\n",
       "      <td>Y</td>\n",
       "      <td>Y</td>\n",
       "    </tr>\n",
       "  </tbody>\n",
       "</table>\n",
       "</div>"
      ]
     },
     "execution_count": 1,
     "metadata": {},
     "output_type": "execute_result"
    }
   ],
   "execution_count": 1
  },
  {
   "metadata": {
    "ExecuteTime": {
     "end_time": "2025-06-08T05:44:07.214860Z",
     "start_time": "2025-06-08T05:44:07.213624Z"
    }
   },
   "cell_type": "code",
   "source": "",
   "id": "2677b218bff7109c",
   "outputs": [],
   "execution_count": null
  },
  {
   "cell_type": "code",
   "id": "96964a5866631d44",
   "metadata": {
    "ExecuteTime": {
     "end_time": "2025-06-08T05:44:07.385283Z",
     "start_time": "2025-06-08T05:44:07.302368Z"
    }
   },
   "source": [
    "df.to_excel(\"results.xlsx\")"
   ],
   "outputs": [],
   "execution_count": 2
  }
 ],
 "metadata": {
  "kernelspec": {
   "display_name": "Python 3 (ipykernel)",
   "language": "python",
   "name": "python3"
  },
  "language_info": {
   "codemirror_mode": {
    "name": "ipython",
    "version": 3
   },
   "file_extension": ".py",
   "mimetype": "text/x-python",
   "name": "python",
   "nbconvert_exporter": "python",
   "pygments_lexer": "ipython3",
   "version": "3.11.9"
  }
 },
 "nbformat": 4,
 "nbformat_minor": 5
}
