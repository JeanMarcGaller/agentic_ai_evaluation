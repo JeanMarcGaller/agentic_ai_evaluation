{
 "cells": [
  {
   "cell_type": "code",
   "id": "456eaa985989d94d",
   "metadata": {
    "ExecuteTime": {
     "end_time": "2025-06-08T21:43:48.399534Z",
     "start_time": "2025-06-08T21:43:48.177853Z"
    }
   },
   "source": [
    "import json\n",
    "\n",
    "import pandas as pd\n",
    "\n",
    "# Anzeigeoptionen für bessere Übersicht\n",
    "pd.set_option(\"display.max_colwidth\", None)\n",
    "# pd.set_option('display.max_columns', None)\n",
    "pd.set_option(\"display.expand_frame_repr\", False)\n",
    "\n",
    "# Ergebnisse laden\n",
    "with open(\"results.json\") as f:\n",
    "    data = json.load(f)\n",
    "\n",
    "# Tabellarisch aufbereiten\n",
    "rows = []\n",
    "rows = []\n",
    "for item in data:\n",
    "    evaluation = item.get(\"evaluation\") or {}      # garantiert Dict\n",
    "\n",
    "    row = {\n",
    "        \"Question\": item[\"question\"],\n",
    "        \"Responder Model\": item.get(\"responder_model\", \"-\"),\n",
    "        \"Revisor Model\": item.get(\"revisor_model\", \"-\"),\n",
    "        \"Responder Tool\": \"Y\" if item.get(\"responder_tool_used\") else \"N\",\n",
    "        \"Revisor Tool\": \"Y\" if item.get(\"revisor_tool_used\") else \"N\",\n",
    "        \"Responder\": item[\"responder_answer\"][:200] + \"...\",\n",
    "        \"Revisor\": item[\"revisor_answer\"][:200] + \"...\",\n",
    "        \"Pairwise Reasoning\": evaluation.get(\n",
    "            \"pairwise_reasoning\", \"-\"),\n",
    "        \"Winner\": evaluation.get(\"pairwise_winner\", \"-\"),\n",
    "        \"Helpfulness Responder\": evaluation.get(\n",
    "            \"helpfulness_responder\", {}).get(\"value\", \"-\"),\n",
    "        \"Helpfulness Revisor\": evaluation.get(\n",
    "            \"helpfulness_revisor\", {}).get(\"value\", \"-\"),\n",
    "        \"Correctness Responder\": evaluation.get(\n",
    "            \"correctness_responder\", {}).get(\"value\", \"-\"),\n",
    "        \"Correctness Revisor\": evaluation.get(\n",
    "            \"correctness_revisor\", {}).get(\"value\", \"-\"),\n",
    "        \"Relevance Responder\": evaluation.get(\n",
    "            \"relevance_responder\", {}).get(\"value\", \"-\"),\n",
    "        \"Relevance Revisor\": evaluation.get(\n",
    "            \"relevance_revisor\", {}).get(\"value\", \"-\"),\n",
    "        \"Conciseness Responder\": evaluation.get(\n",
    "            \"conciseness_responder\", {}).get(\"value\", \"-\"),\n",
    "        \"Conciseness Revisor\": evaluation.get(\n",
    "            \"conciseness_revisor\", {}).get(\"value\", \"-\"),\n",
    "        \"Coherence Responder\": evaluation.get(\n",
    "            \"coherence_responder\", {}).get(\"value\", \"-\"),\n",
    "        \"Coherence Revisor\": evaluation.get(\n",
    "            \"coherence_revisor\", {}).get(\"value\", \"-\"),\n",
    "    }\n",
    "    rows.append(row)\n",
    "\n",
    "\n",
    "# In DataFrame umwandeln\n",
    "df = pd.DataFrame(rows)\n",
    "\n",
    "df"
   ],
   "outputs": [
    {
     "data": {
      "text/plain": [
       "                                                           Question Responder Model Revisor Model Responder Tool Revisor Tool                                                                                                                                                                                                    Responder                                                                                                                                                                                                         Revisor                                                                                                                                                                                                                                                                                                                                                                                                                                                                                                                                                                                                                                                                                                                                                                                                                                                                                                                                                                                                                                                                                                                                                                                                                       Pairwise Reasoning Winner Helpfulness Responder Helpfulness Revisor Correctness Responder Correctness Revisor Relevance Responder Relevance Revisor Conciseness Responder Conciseness Revisor Coherence Responder Coherence Revisor\n",
       "0  Han Chae-young was in the 2009 drama that aired on what network?       qwen3:32b     qwen3:32b              Y            N  Han Chae-young starred in the 2009 South Korean drama \"Boys Before Flowers,\" which aired on KBS2 (Korea Broadcasting System). The drama, part of KBS's 'School' series, became a global phenomenon and s...    <think>\\nOkay, let's tackle this. The user is asking about Han Chae-young's 2009 drama and which network it aired on. From the initial answer, it was stated as KBS2 with the drama \"Boys Before Flowers....  In evaluating the responses from Assistant A and Assistant B, both provide accurate information regarding Han Chae-young's involvement in the 2009 drama \"Boys Before Flowers\" and its airing on KBS2. However, there are notable differences in the depth and helpfulness of their responses.\\n\\nAssistant A gives a straightforward answer, stating the drama's title, the network it aired on, and a brief context about the show's popularity and its themes. This response is concise and relevant, but it lacks depth and additional context that could enhance the user's understanding.\\n\\nOn the other hand, Assistant B not only confirms the title and network but also provides a detailed verification process, referencing multiple sources to substantiate the information. This approach demonstrates a higher level of thoroughness and depth, as it shows the assistant's effort to ensure the accuracy of the information provided. Additionally, the inclusion of references adds credibility to the response, making it more helpful for the user.\\n\\nOverall, while both responses are correct, Assistant B's response is more comprehensive and insightful, making it the better choice.\\n\\nFinal verdict: [[B]]      B                     Y                   Y                     Y                   Y                   Y                 Y                     Y                   Y                   Y                 Y\n",
       "1  Han Chae-young was in the 2009 drama that aired on what network?         gpt-4.1       gpt-4.1              Y            N                                                                          Han Chae-young starred in the 2009 drama \"Boys Over Flowers,\" which aired on KBS2 (Korean Broadcasting System 2) in South Korea....  Han Chae-young appeared in the 2009 drama \"Boys Over Flowers,\" which aired on the South Korean network KBS2 (Korean Broadcasting System 2) from January to March 2009.\\n\\nSources:\\n- https://wiki.d-addict...                                                                                                                                                                                                                                                                                      Both Assistant A and Assistant B provide accurate information regarding Han Chae-young's role in the 2009 drama \"Boys Over Flowers\" and its airing on KBS2. However, there are notable differences in their responses.\\n\\nAssistant A gives a straightforward answer, mentioning the drama and the network, but lacks additional context or detail about the airing period. This makes the response somewhat less informative.\\n\\nAssistant B, on the other hand, not only confirms the same information but also includes the specific airing dates (January to March 2009) and provides sources for further verification. This additional detail enhances the depth and helpfulness of the response, making it more informative and relevant to the user's question.\\n\\nIn terms of helpfulness, relevance, correctness, and depth, Assistant B clearly outperforms Assistant A by providing a more comprehensive answer.\\n\\nFinal verdict: [[B]]      B                     Y                   Y                     Y                   Y                   Y                 Y                     Y                   Y                   Y                 Y"
      ],
      "text/html": [
       "<div>\n",
       "<style scoped>\n",
       "    .dataframe tbody tr th:only-of-type {\n",
       "        vertical-align: middle;\n",
       "    }\n",
       "\n",
       "    .dataframe tbody tr th {\n",
       "        vertical-align: top;\n",
       "    }\n",
       "\n",
       "    .dataframe thead th {\n",
       "        text-align: right;\n",
       "    }\n",
       "</style>\n",
       "<table border=\"1\" class=\"dataframe\">\n",
       "  <thead>\n",
       "    <tr style=\"text-align: right;\">\n",
       "      <th></th>\n",
       "      <th>Question</th>\n",
       "      <th>Responder Model</th>\n",
       "      <th>Revisor Model</th>\n",
       "      <th>Responder Tool</th>\n",
       "      <th>Revisor Tool</th>\n",
       "      <th>Responder</th>\n",
       "      <th>Revisor</th>\n",
       "      <th>Pairwise Reasoning</th>\n",
       "      <th>Winner</th>\n",
       "      <th>Helpfulness Responder</th>\n",
       "      <th>Helpfulness Revisor</th>\n",
       "      <th>Correctness Responder</th>\n",
       "      <th>Correctness Revisor</th>\n",
       "      <th>Relevance Responder</th>\n",
       "      <th>Relevance Revisor</th>\n",
       "      <th>Conciseness Responder</th>\n",
       "      <th>Conciseness Revisor</th>\n",
       "      <th>Coherence Responder</th>\n",
       "      <th>Coherence Revisor</th>\n",
       "    </tr>\n",
       "  </thead>\n",
       "  <tbody>\n",
       "    <tr>\n",
       "      <th>0</th>\n",
       "      <td>Han Chae-young was in the 2009 drama that aired on what network?</td>\n",
       "      <td>qwen3:32b</td>\n",
       "      <td>qwen3:32b</td>\n",
       "      <td>Y</td>\n",
       "      <td>N</td>\n",
       "      <td>Han Chae-young starred in the 2009 South Korean drama \"Boys Before Flowers,\" which aired on KBS2 (Korea Broadcasting System). The drama, part of KBS's 'School' series, became a global phenomenon and s...</td>\n",
       "      <td>&lt;think&gt;\\nOkay, let's tackle this. The user is asking about Han Chae-young's 2009 drama and which network it aired on. From the initial answer, it was stated as KBS2 with the drama \"Boys Before Flowers....</td>\n",
       "      <td>In evaluating the responses from Assistant A and Assistant B, both provide accurate information regarding Han Chae-young's involvement in the 2009 drama \"Boys Before Flowers\" and its airing on KBS2. However, there are notable differences in the depth and helpfulness of their responses.\\n\\nAssistant A gives a straightforward answer, stating the drama's title, the network it aired on, and a brief context about the show's popularity and its themes. This response is concise and relevant, but it lacks depth and additional context that could enhance the user's understanding.\\n\\nOn the other hand, Assistant B not only confirms the title and network but also provides a detailed verification process, referencing multiple sources to substantiate the information. This approach demonstrates a higher level of thoroughness and depth, as it shows the assistant's effort to ensure the accuracy of the information provided. Additionally, the inclusion of references adds credibility to the response, making it more helpful for the user.\\n\\nOverall, while both responses are correct, Assistant B's response is more comprehensive and insightful, making it the better choice.\\n\\nFinal verdict: [[B]]</td>\n",
       "      <td>B</td>\n",
       "      <td>Y</td>\n",
       "      <td>Y</td>\n",
       "      <td>Y</td>\n",
       "      <td>Y</td>\n",
       "      <td>Y</td>\n",
       "      <td>Y</td>\n",
       "      <td>Y</td>\n",
       "      <td>Y</td>\n",
       "      <td>Y</td>\n",
       "      <td>Y</td>\n",
       "    </tr>\n",
       "    <tr>\n",
       "      <th>1</th>\n",
       "      <td>Han Chae-young was in the 2009 drama that aired on what network?</td>\n",
       "      <td>gpt-4.1</td>\n",
       "      <td>gpt-4.1</td>\n",
       "      <td>Y</td>\n",
       "      <td>N</td>\n",
       "      <td>Han Chae-young starred in the 2009 drama \"Boys Over Flowers,\" which aired on KBS2 (Korean Broadcasting System 2) in South Korea....</td>\n",
       "      <td>Han Chae-young appeared in the 2009 drama \"Boys Over Flowers,\" which aired on the South Korean network KBS2 (Korean Broadcasting System 2) from January to March 2009.\\n\\nSources:\\n- https://wiki.d-addict...</td>\n",
       "      <td>Both Assistant A and Assistant B provide accurate information regarding Han Chae-young's role in the 2009 drama \"Boys Over Flowers\" and its airing on KBS2. However, there are notable differences in their responses.\\n\\nAssistant A gives a straightforward answer, mentioning the drama and the network, but lacks additional context or detail about the airing period. This makes the response somewhat less informative.\\n\\nAssistant B, on the other hand, not only confirms the same information but also includes the specific airing dates (January to March 2009) and provides sources for further verification. This additional detail enhances the depth and helpfulness of the response, making it more informative and relevant to the user's question.\\n\\nIn terms of helpfulness, relevance, correctness, and depth, Assistant B clearly outperforms Assistant A by providing a more comprehensive answer.\\n\\nFinal verdict: [[B]]</td>\n",
       "      <td>B</td>\n",
       "      <td>Y</td>\n",
       "      <td>Y</td>\n",
       "      <td>Y</td>\n",
       "      <td>Y</td>\n",
       "      <td>Y</td>\n",
       "      <td>Y</td>\n",
       "      <td>Y</td>\n",
       "      <td>Y</td>\n",
       "      <td>Y</td>\n",
       "      <td>Y</td>\n",
       "    </tr>\n",
       "  </tbody>\n",
       "</table>\n",
       "</div>"
      ]
     },
     "execution_count": 1,
     "metadata": {},
     "output_type": "execute_result"
    }
   ],
   "execution_count": 1
  },
  {
   "metadata": {
    "ExecuteTime": {
     "end_time": "2025-06-08T21:43:48.427255Z",
     "start_time": "2025-06-08T21:43:48.426169Z"
    }
   },
   "cell_type": "code",
   "source": "",
   "id": "2677b218bff7109c",
   "outputs": [],
   "execution_count": null
  },
  {
   "cell_type": "code",
   "id": "96964a5866631d44",
   "metadata": {
    "ExecuteTime": {
     "end_time": "2025-06-08T21:43:48.621594Z",
     "start_time": "2025-06-08T21:43:48.525037Z"
    }
   },
   "source": [
    "df.to_excel(\"results.xlsx\")"
   ],
   "outputs": [],
   "execution_count": 2
  }
 ],
 "metadata": {
  "kernelspec": {
   "display_name": "Python 3 (ipykernel)",
   "language": "python",
   "name": "python3"
  },
  "language_info": {
   "codemirror_mode": {
    "name": "ipython",
    "version": 3
   },
   "file_extension": ".py",
   "mimetype": "text/x-python",
   "name": "python",
   "nbconvert_exporter": "python",
   "pygments_lexer": "ipython3",
   "version": "3.11.9"
  }
 },
 "nbformat": 4,
 "nbformat_minor": 5
}
