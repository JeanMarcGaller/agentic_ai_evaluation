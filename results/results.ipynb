{
 "cells": [
  {
   "cell_type": "code",
   "id": "456eaa985989d94d",
   "metadata": {
    "ExecuteTime": {
     "end_time": "2025-06-08T06:44:50.668239Z",
     "start_time": "2025-06-08T06:44:50.656683Z"
    }
   },
   "source": [
    "import json\n",
    "\n",
    "import pandas as pd\n",
    "\n",
    "# Anzeigeoptionen für bessere Übersicht\n",
    "pd.set_option(\"display.max_colwidth\", None)\n",
    "# pd.set_option('display.max_columns', None)\n",
    "pd.set_option(\"display.expand_frame_repr\", False)\n",
    "\n",
    "# Ergebnisse laden\n",
    "with open(\"results.json\") as f:\n",
    "    data = json.load(f)\n",
    "\n",
    "# Tabellarisch aufbereiten\n",
    "rows = []\n",
    "rows = []\n",
    "for item in data:\n",
    "    evaluation = item.get(\"evaluation\") or {}      # garantiert Dict\n",
    "\n",
    "    row = {\n",
    "        \"Question\": item[\"question\"],\n",
    "        \"Responder Model\": item.get(\"responder_model\", \"-\"),\n",
    "        \"Revisor Model\": item.get(\"revisor_model\", \"-\"),\n",
    "        \"Responder Tool\": \"Y\" if item.get(\"responder_tool_used\") else \"N\",\n",
    "        \"Revisor Tool\": \"Y\" if item.get(\"revisor_tool_used\") else \"N\",\n",
    "        \"Responder\": item[\"responder_answer\"][:200] + \"...\",\n",
    "        \"Revisor\": item[\"revisor_answer\"][:200] + \"...\",\n",
    "        \"Pairwise Reasoning\": evaluation.get(\n",
    "            \"pairwise_reasoning\", \"-\"),\n",
    "        \"Winner\": evaluation.get(\"pairwise_winner\", \"-\"),\n",
    "        \"Helpfulness Responder\": evaluation.get(\n",
    "            \"helpfulness_responder\", {}).get(\"value\", \"-\"),\n",
    "        \"Helpfulness Revisor\": evaluation.get(\n",
    "            \"helpfulness_revisor\", {}).get(\"value\", \"-\"),\n",
    "        \"Correctness Responder\": evaluation.get(\n",
    "            \"correctness_responder\", {}).get(\"value\", \"-\"),\n",
    "        \"Correctness Revisor\": evaluation.get(\n",
    "            \"correctness_revisor\", {}).get(\"value\", \"-\"),\n",
    "        \"Relevance Responder\": evaluation.get(\n",
    "            \"relevance_responder\", {}).get(\"value\", \"-\"),\n",
    "        \"Relevance Revisor\": evaluation.get(\n",
    "            \"relevance_revisor\", {}).get(\"value\", \"-\"),\n",
    "        \"Conciseness Responder\": evaluation.get(\n",
    "            \"conciseness_responder\", {}).get(\"value\", \"-\"),\n",
    "        \"Conciseness Revisor\": evaluation.get(\n",
    "            \"conciseness_revisor\", {}).get(\"value\", \"-\"),\n",
    "        \"Coherence Responder\": evaluation.get(\n",
    "            \"coherence_responder\", {}).get(\"value\", \"-\"),\n",
    "        \"Coherence Revisor\": evaluation.get(\n",
    "            \"coherence_revisor\", {}).get(\"value\", \"-\"),\n",
    "    }\n",
    "    rows.append(row)\n",
    "\n",
    "\n",
    "# In DataFrame umwandeln\n",
    "df = pd.DataFrame(rows)\n",
    "\n",
    "df"
   ],
   "outputs": [
    {
     "data": {
      "text/plain": [
       "                                                                             Question Responder Model Revisor Model Responder Tool Revisor Tool                                                                                                                                                                                                    Responder                                                                                                                                                                                                          Revisor                                                                                                                                                                                                                                                                                                                                                                                                                                                                                                                                                                                                                                                                                                                                                                                                                                                                                                                                                                                                                                                                                                                                                                                                                                                                                                                                                 Pairwise Reasoning Winner Helpfulness Responder Helpfulness Revisor Correctness Responder Correctness Revisor Relevance Responder Relevance Revisor Conciseness Responder Conciseness Revisor Coherence Responder Coherence Revisor\n",
       "0  Which was released first, The Greatest Game Ever Played or Hot Lead and Cold Feet?       qwen3:32b     qwen3:32b              Y            Y  Hot Lead and Cold Feet (1977) was released first, preceding The Greatest Game Ever Played (2007) by 30 years. The Western comedy Hot Lead and Cold Feet, starring Roy Rogers, premiered on October 14, 1...      Hot Lead and Cold Feet (1978) was released first, preceding The Greatest Game Ever Played (2005) by 27 years. Hot Lead and Cold Feet, a Western comedy, premiered on July 5, 1978. The Greatest Game Eve...  In evaluating the responses from both assistants, several factors come into play. \\n\\nAssistant A correctly identifies that \"Hot Lead and Cold Feet\" was released first and provides the correct release date of October 14, 1977, for that film. However, it incorrectly states that \"The Greatest Game Ever Played\" was released on September 15, 2007, which is inaccurate. The assistant also mentions the different production contexts and genres, which adds some depth to the response.\\n\\nAssistant B, on the other hand, incorrectly states the release year of \"Hot Lead and Cold Feet\" as 1978 and the release date of \"The Greatest Game Ever Played\" as September 30, 2005, which is also incorrect. However, it does attempt to clarify the timeline and references verified sources, which adds a layer of credibility to its response.\\n\\nIn terms of helpfulness, relevance, and correctness, Assistant A provides a more accurate release date for \"Hot Lead and Cold Feet,\" despite the error regarding \"The Greatest Game Ever Played.\" Assistant B's attempt to reference sources is commendable, but the inaccuracies in both release dates diminish its overall effectiveness.\\n\\nConsidering these factors, Assistant A's response is more helpful and relevant, despite its own inaccuracies. Therefore, the final verdict is:\\n\\n[[A]]      A                     Y                   Y                     Y                   Y                   Y                 Y                     Y                   Y                   Y                 Y\n",
       "1  Which was released first, The Greatest Game Ever Played or Hot Lead and Cold Feet?         gpt-4.1       gpt-4.1              Y            N                  \"Hot Lead and Cold Feet\" was released first. It is a Disney Western comedy film released in 1978. \"The Greatest Game Ever Played\" is a golf drama that was released much later, in 2005....  Hot Lead and Cold Feet was released first, on July 5, 1978. The Greatest Game Ever Played was released on September 30, 2005. \\n\\nReferences:\\n- https://en.wikipedia.org/wiki/Hot_Lead_and_Cold_Feet\\n- htt...                                                                                                                                                                                                                                                                  Both Assistant A and Assistant B provide the correct information regarding the release dates of \"Hot Lead and Cold Feet\" and \"The Greatest Game Ever Played.\" However, there are notable differences in their responses.\\n\\nAssistant A states that \"Hot Lead and Cold Feet\" was released first and provides the year of release for both films. While this answer is correct, it lacks specific details such as the exact release date of \"Hot Lead and Cold Feet,\" which could enhance the depth of the response.\\n\\nAssistant B also correctly identifies that \"Hot Lead and Cold Feet\" was released first and includes the exact release date of July 5, 1978, as well as the release date of \"The Greatest Game Ever Played\" on September 30, 2005. Additionally, Assistant B provides references to credible sources, which adds to the accuracy and reliability of the information presented.\\n\\nIn terms of helpfulness, relevance, correctness, and depth, Assistant B outperforms Assistant A by providing more detailed information and supporting references.\\n\\nFinal verdict: [[B]]      B                     Y                   Y                     Y                   Y                   Y                 Y                     Y                   Y                   Y                 Y"
      ],
      "text/html": [
       "<div>\n",
       "<style scoped>\n",
       "    .dataframe tbody tr th:only-of-type {\n",
       "        vertical-align: middle;\n",
       "    }\n",
       "\n",
       "    .dataframe tbody tr th {\n",
       "        vertical-align: top;\n",
       "    }\n",
       "\n",
       "    .dataframe thead th {\n",
       "        text-align: right;\n",
       "    }\n",
       "</style>\n",
       "<table border=\"1\" class=\"dataframe\">\n",
       "  <thead>\n",
       "    <tr style=\"text-align: right;\">\n",
       "      <th></th>\n",
       "      <th>Question</th>\n",
       "      <th>Responder Model</th>\n",
       "      <th>Revisor Model</th>\n",
       "      <th>Responder Tool</th>\n",
       "      <th>Revisor Tool</th>\n",
       "      <th>Responder</th>\n",
       "      <th>Revisor</th>\n",
       "      <th>Pairwise Reasoning</th>\n",
       "      <th>Winner</th>\n",
       "      <th>Helpfulness Responder</th>\n",
       "      <th>Helpfulness Revisor</th>\n",
       "      <th>Correctness Responder</th>\n",
       "      <th>Correctness Revisor</th>\n",
       "      <th>Relevance Responder</th>\n",
       "      <th>Relevance Revisor</th>\n",
       "      <th>Conciseness Responder</th>\n",
       "      <th>Conciseness Revisor</th>\n",
       "      <th>Coherence Responder</th>\n",
       "      <th>Coherence Revisor</th>\n",
       "    </tr>\n",
       "  </thead>\n",
       "  <tbody>\n",
       "    <tr>\n",
       "      <th>0</th>\n",
       "      <td>Which was released first, The Greatest Game Ever Played or Hot Lead and Cold Feet?</td>\n",
       "      <td>qwen3:32b</td>\n",
       "      <td>qwen3:32b</td>\n",
       "      <td>Y</td>\n",
       "      <td>Y</td>\n",
       "      <td>Hot Lead and Cold Feet (1977) was released first, preceding The Greatest Game Ever Played (2007) by 30 years. The Western comedy Hot Lead and Cold Feet, starring Roy Rogers, premiered on October 14, 1...</td>\n",
       "      <td>Hot Lead and Cold Feet (1978) was released first, preceding The Greatest Game Ever Played (2005) by 27 years. Hot Lead and Cold Feet, a Western comedy, premiered on July 5, 1978. The Greatest Game Eve...</td>\n",
       "      <td>In evaluating the responses from both assistants, several factors come into play. \\n\\nAssistant A correctly identifies that \"Hot Lead and Cold Feet\" was released first and provides the correct release date of October 14, 1977, for that film. However, it incorrectly states that \"The Greatest Game Ever Played\" was released on September 15, 2007, which is inaccurate. The assistant also mentions the different production contexts and genres, which adds some depth to the response.\\n\\nAssistant B, on the other hand, incorrectly states the release year of \"Hot Lead and Cold Feet\" as 1978 and the release date of \"The Greatest Game Ever Played\" as September 30, 2005, which is also incorrect. However, it does attempt to clarify the timeline and references verified sources, which adds a layer of credibility to its response.\\n\\nIn terms of helpfulness, relevance, and correctness, Assistant A provides a more accurate release date for \"Hot Lead and Cold Feet,\" despite the error regarding \"The Greatest Game Ever Played.\" Assistant B's attempt to reference sources is commendable, but the inaccuracies in both release dates diminish its overall effectiveness.\\n\\nConsidering these factors, Assistant A's response is more helpful and relevant, despite its own inaccuracies. Therefore, the final verdict is:\\n\\n[[A]]</td>\n",
       "      <td>A</td>\n",
       "      <td>Y</td>\n",
       "      <td>Y</td>\n",
       "      <td>Y</td>\n",
       "      <td>Y</td>\n",
       "      <td>Y</td>\n",
       "      <td>Y</td>\n",
       "      <td>Y</td>\n",
       "      <td>Y</td>\n",
       "      <td>Y</td>\n",
       "      <td>Y</td>\n",
       "    </tr>\n",
       "    <tr>\n",
       "      <th>1</th>\n",
       "      <td>Which was released first, The Greatest Game Ever Played or Hot Lead and Cold Feet?</td>\n",
       "      <td>gpt-4.1</td>\n",
       "      <td>gpt-4.1</td>\n",
       "      <td>Y</td>\n",
       "      <td>N</td>\n",
       "      <td>\"Hot Lead and Cold Feet\" was released first. It is a Disney Western comedy film released in 1978. \"The Greatest Game Ever Played\" is a golf drama that was released much later, in 2005....</td>\n",
       "      <td>Hot Lead and Cold Feet was released first, on July 5, 1978. The Greatest Game Ever Played was released on September 30, 2005. \\n\\nReferences:\\n- https://en.wikipedia.org/wiki/Hot_Lead_and_Cold_Feet\\n- htt...</td>\n",
       "      <td>Both Assistant A and Assistant B provide the correct information regarding the release dates of \"Hot Lead and Cold Feet\" and \"The Greatest Game Ever Played.\" However, there are notable differences in their responses.\\n\\nAssistant A states that \"Hot Lead and Cold Feet\" was released first and provides the year of release for both films. While this answer is correct, it lacks specific details such as the exact release date of \"Hot Lead and Cold Feet,\" which could enhance the depth of the response.\\n\\nAssistant B also correctly identifies that \"Hot Lead and Cold Feet\" was released first and includes the exact release date of July 5, 1978, as well as the release date of \"The Greatest Game Ever Played\" on September 30, 2005. Additionally, Assistant B provides references to credible sources, which adds to the accuracy and reliability of the information presented.\\n\\nIn terms of helpfulness, relevance, correctness, and depth, Assistant B outperforms Assistant A by providing more detailed information and supporting references.\\n\\nFinal verdict: [[B]]</td>\n",
       "      <td>B</td>\n",
       "      <td>Y</td>\n",
       "      <td>Y</td>\n",
       "      <td>Y</td>\n",
       "      <td>Y</td>\n",
       "      <td>Y</td>\n",
       "      <td>Y</td>\n",
       "      <td>Y</td>\n",
       "      <td>Y</td>\n",
       "      <td>Y</td>\n",
       "      <td>Y</td>\n",
       "    </tr>\n",
       "  </tbody>\n",
       "</table>\n",
       "</div>"
      ]
     },
     "execution_count": 9,
     "metadata": {},
     "output_type": "execute_result"
    }
   ],
   "execution_count": 9
  },
  {
   "metadata": {
    "ExecuteTime": {
     "end_time": "2025-06-08T06:44:50.697106Z",
     "start_time": "2025-06-08T06:44:50.695907Z"
    }
   },
   "cell_type": "code",
   "source": "",
   "id": "2677b218bff7109c",
   "outputs": [],
   "execution_count": null
  },
  {
   "cell_type": "code",
   "id": "96964a5866631d44",
   "metadata": {
    "ExecuteTime": {
     "end_time": "2025-06-08T06:44:50.724760Z",
     "start_time": "2025-06-08T06:44:50.719138Z"
    }
   },
   "source": [
    "df.to_excel(\"results.xlsx\")"
   ],
   "outputs": [],
   "execution_count": 10
  }
 ],
 "metadata": {
  "kernelspec": {
   "display_name": "Python 3 (ipykernel)",
   "language": "python",
   "name": "python3"
  },
  "language_info": {
   "codemirror_mode": {
    "name": "ipython",
    "version": 3
   },
   "file_extension": ".py",
   "mimetype": "text/x-python",
   "name": "python",
   "nbconvert_exporter": "python",
   "pygments_lexer": "ipython3",
   "version": "3.11.9"
  }
 },
 "nbformat": 4,
 "nbformat_minor": 5
}
