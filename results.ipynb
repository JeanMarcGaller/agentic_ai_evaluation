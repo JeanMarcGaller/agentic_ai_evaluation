{
 "cells": [
  {
   "cell_type": "code",
   "id": "initial_id",
   "metadata": {
    "collapsed": true,
    "ExecuteTime": {
     "end_time": "2025-05-08T15:48:38.283739Z",
     "start_time": "2025-05-08T15:48:38.053480Z"
    }
   },
   "source": [
    "import json\n",
    "import pandas as pd\n",
    "\n",
    "with open(\"results.json\") as f:\n",
    "    data = json.load(f)\n",
    "\n",
    "# Flachstruktur für tabellarische Darstellung extrahieren\n",
    "rows = []\n",
    "for item in data:\n",
    "    row = {\n",
    "        \"Question\": item[\"question\"],\n",
    "        \"Responder\": item[\"responder_answer\"][:200] + \"...\",  # gekürzt\n",
    "        \"Revisor\": item[\"revisor_answer\"][:200] + \"...\",\n",
    "        \"Winner\": item[\"evaluation\"].get(\"pairwise_winner\", \"-\"),\n",
    "        \"Helpfulness R\": item[\"evaluation\"][\"helpfulness_responder\"][\"value\"],\n",
    "        \"Helpfulness V\": item[\"evaluation\"][\"helpfulness_revisor\"][\"value\"],\n",
    "        \"Relevance R\": item[\"evaluation\"][\"relevance_responder\"][\"value\"],\n",
    "        \"Relevance V\": item[\"evaluation\"][\"relevance_revisor\"][\"value\"],\n",
    "    }\n",
    "    rows.append(row)\n",
    "\n",
    "df = pd.DataFrame(rows)\n",
    "df.head()\n"
   ],
   "outputs": [
    {
     "data": {
      "text/plain": [
       "                                            Question  \\\n",
       "0  In which theater did Heidi Brunner, a Swiss op...   \n",
       "1  Baraki Barak District is situated in the weste...   \n",
       "2  What US city between New York and Quebec Canad...   \n",
       "3  Stoke Extinguisher is what type of musical rec...   \n",
       "4  What is the name for the adventure in \"Tunnels...   \n",
       "\n",
       "                                           Responder  \\\n",
       "0  Heidi Brunner sang the trouser role of Annio i...   \n",
       "1  Baraki Barak District lies in the western part...   \n",
       "2  Burlington, Vermont, was the US city between N...   \n",
       "3  Stoke Extinguisher is an EP, short for “extend...   \n",
       "4  The adventure is called “Buffalo Castle.” It w...   \n",
       "\n",
       "                                             Revisor Winner Helpfulness R  \\\n",
       "0  Heidi Brunner performed the trouser role of An...   None             Y   \n",
       "1  Baraki Barak District is in the western part o...   None             Y   \n",
       "2  Burlington, Vermont, is the U.S. city most aff...      B             Y   \n",
       "3  Stoke Extinguisher is an EP (extended play), a...   None             Y   \n",
       "4                                  Buffalo Castle...      A             Y   \n",
       "\n",
       "  Helpfulness V Relevance R Relevance V  \n",
       "0             Y           Y           Y  \n",
       "1             Y           Y           Y  \n",
       "2             Y           Y           Y  \n",
       "3             Y           Y           Y  \n",
       "4             Y           Y           Y  "
      ],
      "text/html": [
       "<div>\n",
       "<style scoped>\n",
       "    .dataframe tbody tr th:only-of-type {\n",
       "        vertical-align: middle;\n",
       "    }\n",
       "\n",
       "    .dataframe tbody tr th {\n",
       "        vertical-align: top;\n",
       "    }\n",
       "\n",
       "    .dataframe thead th {\n",
       "        text-align: right;\n",
       "    }\n",
       "</style>\n",
       "<table border=\"1\" class=\"dataframe\">\n",
       "  <thead>\n",
       "    <tr style=\"text-align: right;\">\n",
       "      <th></th>\n",
       "      <th>Question</th>\n",
       "      <th>Responder</th>\n",
       "      <th>Revisor</th>\n",
       "      <th>Winner</th>\n",
       "      <th>Helpfulness R</th>\n",
       "      <th>Helpfulness V</th>\n",
       "      <th>Relevance R</th>\n",
       "      <th>Relevance V</th>\n",
       "    </tr>\n",
       "  </thead>\n",
       "  <tbody>\n",
       "    <tr>\n",
       "      <th>0</th>\n",
       "      <td>In which theater did Heidi Brunner, a Swiss op...</td>\n",
       "      <td>Heidi Brunner sang the trouser role of Annio i...</td>\n",
       "      <td>Heidi Brunner performed the trouser role of An...</td>\n",
       "      <td>None</td>\n",
       "      <td>Y</td>\n",
       "      <td>Y</td>\n",
       "      <td>Y</td>\n",
       "      <td>Y</td>\n",
       "    </tr>\n",
       "    <tr>\n",
       "      <th>1</th>\n",
       "      <td>Baraki Barak District is situated in the weste...</td>\n",
       "      <td>Baraki Barak District lies in the western part...</td>\n",
       "      <td>Baraki Barak District is in the western part o...</td>\n",
       "      <td>None</td>\n",
       "      <td>Y</td>\n",
       "      <td>Y</td>\n",
       "      <td>Y</td>\n",
       "      <td>Y</td>\n",
       "    </tr>\n",
       "    <tr>\n",
       "      <th>2</th>\n",
       "      <td>What US city between New York and Quebec Canad...</td>\n",
       "      <td>Burlington, Vermont, was the US city between N...</td>\n",
       "      <td>Burlington, Vermont, is the U.S. city most aff...</td>\n",
       "      <td>B</td>\n",
       "      <td>Y</td>\n",
       "      <td>Y</td>\n",
       "      <td>Y</td>\n",
       "      <td>Y</td>\n",
       "    </tr>\n",
       "    <tr>\n",
       "      <th>3</th>\n",
       "      <td>Stoke Extinguisher is what type of musical rec...</td>\n",
       "      <td>Stoke Extinguisher is an EP, short for “extend...</td>\n",
       "      <td>Stoke Extinguisher is an EP (extended play), a...</td>\n",
       "      <td>None</td>\n",
       "      <td>Y</td>\n",
       "      <td>Y</td>\n",
       "      <td>Y</td>\n",
       "      <td>Y</td>\n",
       "    </tr>\n",
       "    <tr>\n",
       "      <th>4</th>\n",
       "      <td>What is the name for the adventure in \"Tunnels...</td>\n",
       "      <td>The adventure is called “Buffalo Castle.” It w...</td>\n",
       "      <td>Buffalo Castle...</td>\n",
       "      <td>A</td>\n",
       "      <td>Y</td>\n",
       "      <td>Y</td>\n",
       "      <td>Y</td>\n",
       "      <td>Y</td>\n",
       "    </tr>\n",
       "  </tbody>\n",
       "</table>\n",
       "</div>"
      ]
     },
     "execution_count": 1,
     "metadata": {},
     "output_type": "execute_result"
    }
   ],
   "execution_count": 1
  },
  {
   "metadata": {
    "ExecuteTime": {
     "end_time": "2025-05-08T15:48:38.374338Z",
     "start_time": "2025-05-08T15:48:38.367899Z"
    }
   },
   "cell_type": "code",
   "source": "",
   "id": "797b51e18b647f0b",
   "outputs": [],
   "execution_count": null
  },
  {
   "metadata": {
    "ExecuteTime": {
     "end_time": "2025-05-08T15:48:38.639655Z",
     "start_time": "2025-05-08T15:48:38.638382Z"
    }
   },
   "cell_type": "code",
   "source": "",
   "id": "c392d52dbf245a13",
   "outputs": [],
   "execution_count": null
  }
 ],
 "metadata": {
  "kernelspec": {
   "display_name": "Python 3",
   "language": "python",
   "name": "python3"
  },
  "language_info": {
   "codemirror_mode": {
    "name": "ipython",
    "version": 2
   },
   "file_extension": ".py",
   "mimetype": "text/x-python",
   "name": "python",
   "nbconvert_exporter": "python",
   "pygments_lexer": "ipython2",
   "version": "2.7.6"
  }
 },
 "nbformat": 4,
 "nbformat_minor": 5
}
