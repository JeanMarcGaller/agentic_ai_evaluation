{
 "cells": [
  {
   "cell_type": "code",
   "id": "initial_id",
   "metadata": {
    "collapsed": true,
    "ExecuteTime": {
     "end_time": "2025-05-10T05:24:02.323721Z",
     "start_time": "2025-05-10T05:24:02.141351Z"
    }
   },
   "source": [
    "import json\n",
    "import pandas as pd\n",
    "\n",
    "with open(\"results.json\") as f:\n",
    "    data = json.load(f)\n",
    "\n",
    "# Flachstruktur für tabellarische Darstellung extrahieren\n",
    "rows = []\n",
    "for item in data:\n",
    "    row = {\n",
    "    \"Question\": item[\"question\"],\n",
    "    \"Responder\": item[\"responder_answer\"][:200] + \"...\",\n",
    "    \"Revisor\": item[\"revisor_answer\"][:200] + \"...\",\n",
    "    \"Winner\": item[\"evaluation\"].get(\"pairwise_winner\", \"-\"),\n",
    "    \"Helpfulness R\": item[\"evaluation\"].get(\"helpfulness_responder\", {}).get(\"value\", \"-\"),\n",
    "    \"Helpfulness V\": item[\"evaluation\"].get(\"helpfulness_revisor\", {}).get(\"value\", \"-\"),\n",
    "    \"Relevance R\": item[\"evaluation\"].get(\"relevance_responder\", {}).get(\"value\", \"-\"),\n",
    "    \"Relevance V\": item[\"evaluation\"].get(\"relevance_revisor\", {}).get(\"value\", \"-\"),\n",
    "    \"Conciseness R\": item[\"evaluation\"].get(\"conciseness_responder\", {}).get(\"value\", \"-\"),\n",
    "    \"Conciseness V\": item[\"evaluation\"].get(\"conciseness_revisor\", {}).get(\"value\", \"-\"),\n",
    "    \"Coherence R\": item[\"evaluation\"].get(\"coherence_responder\", {}).get(\"value\", \"-\"),\n",
    "    \"Coherence V\": item[\"evaluation\"].get(\"coherence_revisor\", {}).get(\"value\", \"-\"),\n",
    "}\n",
    "\n",
    "    rows.append(row)\n",
    "\n",
    "df = pd.DataFrame(rows)\n",
    "df.head()\n"
   ],
   "outputs": [
    {
     "data": {
      "text/plain": [
       "                                            Question  \\\n",
       "0  Whose real-life story was the inspiration of t...   \n",
       "1  Are the bands Tiger Please and Black Rebel Mot...   \n",
       "\n",
       "                                           Responder  \\\n",
       "0  The song “We All Die Young” was featured in th...   \n",
       "1  No. Tiger Please are from Cardiff, Wales in th...   \n",
       "\n",
       "                                             Revisor Winner Helpfulness R  \\\n",
       "0  The film (“Rock Star,” 2001) that includes the...   None             Y   \n",
       "1  No. Tiger Please are from Cardiff, Wales (Unit...   None             Y   \n",
       "\n",
       "  Helpfulness V Relevance R Relevance V Conciseness R Conciseness V  \\\n",
       "0             Y           Y           Y             Y             Y   \n",
       "1             Y           Y           Y             Y             Y   \n",
       "\n",
       "  Coherence R Coherence V  \n",
       "0           Y           Y  \n",
       "1           Y           Y  "
      ],
      "text/html": [
       "<div>\n",
       "<style scoped>\n",
       "    .dataframe tbody tr th:only-of-type {\n",
       "        vertical-align: middle;\n",
       "    }\n",
       "\n",
       "    .dataframe tbody tr th {\n",
       "        vertical-align: top;\n",
       "    }\n",
       "\n",
       "    .dataframe thead th {\n",
       "        text-align: right;\n",
       "    }\n",
       "</style>\n",
       "<table border=\"1\" class=\"dataframe\">\n",
       "  <thead>\n",
       "    <tr style=\"text-align: right;\">\n",
       "      <th></th>\n",
       "      <th>Question</th>\n",
       "      <th>Responder</th>\n",
       "      <th>Revisor</th>\n",
       "      <th>Winner</th>\n",
       "      <th>Helpfulness R</th>\n",
       "      <th>Helpfulness V</th>\n",
       "      <th>Relevance R</th>\n",
       "      <th>Relevance V</th>\n",
       "      <th>Conciseness R</th>\n",
       "      <th>Conciseness V</th>\n",
       "      <th>Coherence R</th>\n",
       "      <th>Coherence V</th>\n",
       "    </tr>\n",
       "  </thead>\n",
       "  <tbody>\n",
       "    <tr>\n",
       "      <th>0</th>\n",
       "      <td>Whose real-life story was the inspiration of t...</td>\n",
       "      <td>The song “We All Die Young” was featured in th...</td>\n",
       "      <td>The film (“Rock Star,” 2001) that includes the...</td>\n",
       "      <td>None</td>\n",
       "      <td>Y</td>\n",
       "      <td>Y</td>\n",
       "      <td>Y</td>\n",
       "      <td>Y</td>\n",
       "      <td>Y</td>\n",
       "      <td>Y</td>\n",
       "      <td>Y</td>\n",
       "      <td>Y</td>\n",
       "    </tr>\n",
       "    <tr>\n",
       "      <th>1</th>\n",
       "      <td>Are the bands Tiger Please and Black Rebel Mot...</td>\n",
       "      <td>No. Tiger Please are from Cardiff, Wales in th...</td>\n",
       "      <td>No. Tiger Please are from Cardiff, Wales (Unit...</td>\n",
       "      <td>None</td>\n",
       "      <td>Y</td>\n",
       "      <td>Y</td>\n",
       "      <td>Y</td>\n",
       "      <td>Y</td>\n",
       "      <td>Y</td>\n",
       "      <td>Y</td>\n",
       "      <td>Y</td>\n",
       "      <td>Y</td>\n",
       "    </tr>\n",
       "  </tbody>\n",
       "</table>\n",
       "</div>"
      ]
     },
     "execution_count": 1,
     "metadata": {},
     "output_type": "execute_result"
    }
   ],
   "execution_count": 1
  },
  {
   "metadata": {
    "ExecuteTime": {
     "end_time": "2025-05-10T05:24:02.333871Z",
     "start_time": "2025-05-10T05:24:02.332598Z"
    }
   },
   "cell_type": "code",
   "source": "",
   "id": "797b51e18b647f0b",
   "outputs": [],
   "execution_count": null
  }
 ],
 "metadata": {
  "kernelspec": {
   "display_name": "Python 3",
   "language": "python",
   "name": "python3"
  },
  "language_info": {
   "codemirror_mode": {
    "name": "ipython",
    "version": 2
   },
   "file_extension": ".py",
   "mimetype": "text/x-python",
   "name": "python",
   "nbconvert_exporter": "python",
   "pygments_lexer": "ipython2",
   "version": "2.7.6"
  }
 },
 "nbformat": 4,
 "nbformat_minor": 5
}
