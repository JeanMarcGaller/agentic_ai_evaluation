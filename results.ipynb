{
 "cells": [
  {
   "cell_type": "code",
   "id": "initial_id",
   "metadata": {
    "ExecuteTime": {
     "end_time": "2025-05-10T14:03:44.512611Z",
     "start_time": "2025-05-10T14:03:44.331369Z"
    }
   },
   "source": [
    "import json\n",
    "import pandas as pd\n",
    "\n",
    "with open(\"results.json\") as f:\n",
    "    data = json.load(f)\n",
    "\n",
    "# Flachstruktur für tabellarische Darstellung extrahieren\n",
    "rows = []\n",
    "for item in data:\n",
    "    row = {\n",
    "    \"Question\": item[\"question\"],\n",
    "    \"Responder\": item[\"responder_answer\"][:200] + \"...\",\n",
    "    \"Revisor\": item[\"revisor_answer\"][:200] + \"...\",\n",
    "    \"Winner\": item[\"evaluation\"].get(\"pairwise_winner\", \"-\"),\n",
    "    \"Helpfulness R\": item[\"evaluation\"].get(\"helpfulness_responder\", {}).get(\"value\", \"-\"),\n",
    "    \"Helpfulness V\": item[\"evaluation\"].get(\"helpfulness_revisor\", {}).get(\"value\", \"-\"),\n",
    "    \"Relevance R\": item[\"evaluation\"].get(\"relevance_responder\", {}).get(\"value\", \"-\"),\n",
    "    \"Relevance V\": item[\"evaluation\"].get(\"relevance_revisor\", {}).get(\"value\", \"-\"),\n",
    "    \"Conciseness R\": item[\"evaluation\"].get(\"conciseness_responder\", {}).get(\"value\", \"-\"),\n",
    "    \"Conciseness V\": item[\"evaluation\"].get(\"conciseness_revisor\", {}).get(\"value\", \"-\"),\n",
    "    \"Coherence R\": item[\"evaluation\"].get(\"coherence_responder\", {}).get(\"value\", \"-\"),\n",
    "    \"Coherence V\": item[\"evaluation\"].get(\"coherence_revisor\", {}).get(\"value\", \"-\"),\n",
    "}\n",
    "\n",
    "    rows.append(row)\n",
    "\n",
    "df = pd.DataFrame(rows)\n",
    "df.head()\n"
   ],
   "outputs": [
    {
     "data": {
      "text/plain": [
       "                                            Question  \\\n",
       "0  The Polar Bears featuring the voice of Armie H...   \n",
       "1  What date was the movie originally supposed to...   \n",
       "\n",
       "                                           Responder  \\\n",
       "0  He voices the character Jackson Storm in Cars ...   \n",
       "1  The film originally slated for release on Marc...   \n",
       "\n",
       "                                             Revisor Winner Helpfulness R  \\\n",
       "0  In Cars 3, Armie Hammer provides the voice of ...   None             Y   \n",
       "1  The film was originally scheduled to be releas...      A             Y   \n",
       "\n",
       "  Helpfulness V Relevance R Relevance V Conciseness R Conciseness V  \\\n",
       "0             Y           Y           Y             Y             Y   \n",
       "1             Y           Y           Y             Y             Y   \n",
       "\n",
       "  Coherence R Coherence V  \n",
       "0           Y           Y  \n",
       "1           Y           Y  "
      ],
      "text/html": [
       "<div>\n",
       "<style scoped>\n",
       "    .dataframe tbody tr th:only-of-type {\n",
       "        vertical-align: middle;\n",
       "    }\n",
       "\n",
       "    .dataframe tbody tr th {\n",
       "        vertical-align: top;\n",
       "    }\n",
       "\n",
       "    .dataframe thead th {\n",
       "        text-align: right;\n",
       "    }\n",
       "</style>\n",
       "<table border=\"1\" class=\"dataframe\">\n",
       "  <thead>\n",
       "    <tr style=\"text-align: right;\">\n",
       "      <th></th>\n",
       "      <th>Question</th>\n",
       "      <th>Responder</th>\n",
       "      <th>Revisor</th>\n",
       "      <th>Winner</th>\n",
       "      <th>Helpfulness R</th>\n",
       "      <th>Helpfulness V</th>\n",
       "      <th>Relevance R</th>\n",
       "      <th>Relevance V</th>\n",
       "      <th>Conciseness R</th>\n",
       "      <th>Conciseness V</th>\n",
       "      <th>Coherence R</th>\n",
       "      <th>Coherence V</th>\n",
       "    </tr>\n",
       "  </thead>\n",
       "  <tbody>\n",
       "    <tr>\n",
       "      <th>0</th>\n",
       "      <td>The Polar Bears featuring the voice of Armie H...</td>\n",
       "      <td>He voices the character Jackson Storm in Cars ...</td>\n",
       "      <td>In Cars 3, Armie Hammer provides the voice of ...</td>\n",
       "      <td>None</td>\n",
       "      <td>Y</td>\n",
       "      <td>Y</td>\n",
       "      <td>Y</td>\n",
       "      <td>Y</td>\n",
       "      <td>Y</td>\n",
       "      <td>Y</td>\n",
       "      <td>Y</td>\n",
       "      <td>Y</td>\n",
       "    </tr>\n",
       "    <tr>\n",
       "      <th>1</th>\n",
       "      <td>What date was the movie originally supposed to...</td>\n",
       "      <td>The film originally slated for release on Marc...</td>\n",
       "      <td>The film was originally scheduled to be releas...</td>\n",
       "      <td>A</td>\n",
       "      <td>Y</td>\n",
       "      <td>Y</td>\n",
       "      <td>Y</td>\n",
       "      <td>Y</td>\n",
       "      <td>Y</td>\n",
       "      <td>Y</td>\n",
       "      <td>Y</td>\n",
       "      <td>Y</td>\n",
       "    </tr>\n",
       "  </tbody>\n",
       "</table>\n",
       "</div>"
      ]
     },
     "execution_count": 1,
     "metadata": {},
     "output_type": "execute_result"
    }
   ],
   "execution_count": 1
  },
  {
   "cell_type": "code",
   "id": "797b51e18b647f0b",
   "metadata": {
    "ExecuteTime": {
     "end_time": "2025-05-10T14:03:44.535838Z",
     "start_time": "2025-05-10T14:03:44.534718Z"
    }
   },
   "source": [],
   "outputs": [],
   "execution_count": null
  }
 ],
 "metadata": {
  "kernelspec": {
   "display_name": "Python 3 (ipykernel)",
   "language": "python",
   "name": "python3"
  },
  "language_info": {
   "codemirror_mode": {
    "name": "ipython",
    "version": 3
   },
   "file_extension": ".py",
   "mimetype": "text/x-python",
   "name": "python",
   "nbconvert_exporter": "python",
   "pygments_lexer": "ipython3",
   "version": "3.11.9"
  }
 },
 "nbformat": 4,
 "nbformat_minor": 5
}
