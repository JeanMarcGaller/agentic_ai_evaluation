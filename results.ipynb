{
 "cells": [
  {
   "cell_type": "code",
   "id": "initial_id",
   "metadata": {
    "ExecuteTime": {
     "end_time": "2025-05-11T08:54:30.217073Z",
     "start_time": "2025-05-11T08:54:30.208319Z"
    }
   },
   "source": [
    "import json\n",
    "import pandas as pd\n",
    "\n",
    "pd.set_option('display.max_colwidth', None)  # Show full content of each cell\n",
    "pd.set_option('display.max_columns', None)   # Show all columns\n",
    "pd.set_option('display.expand_frame_repr', False)  # Prevent wrapping to multiple lines\n",
    "\n",
    "with open(\"results.json\") as f:\n",
    "    data = json.load(f)\n",
    "\n",
    "# Flachstruktur für tabellarische Darstellung extrahieren\n",
    "rows = []\n",
    "for item in data:\n",
    "    row = {\n",
    "    \"Question\": item[\"question\"],\n",
    "    \"Responder Tool\": item[\"responder_tool_used\"],\n",
    "    \"Revisor Tool\": item[\"revisor_tool_used\"],\n",
    "    \"Responder\": item[\"responder_answer\"][:200] + \"...\",\n",
    "    \"Revisor\": item[\"revisor_answer\"][:200] + \"...\",\n",
    "    \"Pairwise Reasoning\": item[\"evaluation\"].get(\"pairwise_reasoning\", \"-\"),\n",
    "    \"Winner\": item[\"evaluation\"].get(\"pairwise_winner\", \"-\"),\n",
    "    \"Helpfulness Responder\": item[\"evaluation\"].get(\"helpfulness_responder\", {}).get(\"value\", \"-\"),\n",
    "    \"Helpfulness Revisor\": item[\"evaluation\"].get(\"helpfulness_revisor\", {}).get(\"value\", \"-\"),\n",
    "    \"Relevance Responder\": item[\"evaluation\"].get(\"relevance_responder\", {}).get(\"value\", \"-\"),\n",
    "    \"Relevance Revisor\": item[\"evaluation\"].get(\"relevance_revisor\", {}).get(\"value\", \"-\"),\n",
    "    \"Conciseness Responder\": item[\"evaluation\"].get(\"conciseness_responder\", {}).get(\"value\", \"-\"),\n",
    "    \"Conciseness Revisor\": item[\"evaluation\"].get(\"conciseness_revisor\", {}).get(\"value\", \"-\"),\n",
    "    \"Coherence Responder\": item[\"evaluation\"].get(\"coherence_responder\", {}).get(\"value\", \"-\"),\n",
    "    \"Coherence Revisor\": item[\"evaluation\"].get(\"coherence_revisor\", {}).get(\"value\", \"-\"),\n",
    "    }\n",
    "\n",
    "    rows.append(row)\n",
    "\n",
    "df = pd.DataFrame(rows)\n",
    "df.head()\n"
   ],
   "outputs": [
    {
     "data": {
      "text/plain": [
       "                                                           Question  Responder Tool  Revisor Tool                                                                                                                                                                          Responder                                                                                                                                                                                                        Revisor                                                                                                                                                                                                                                                                                                                                                                                                                                                                                                                                                                                                                             Pairwise Reasoning Winner Helpfulness Responder Helpfulness Revisor Relevance Responder Relevance Revisor Conciseness Responder Conciseness Revisor                                                                                  Coherence Responder Coherence Revisor\n",
       "0  which American political consultant was a former Trump campaign             True         False  Paul J. Manafort is an American political consultant who served as Donald Trump’s 2016 campaign chairman (sometimes referred to as campaign manager) from June to August 2016....  The question is ambiguous about which Trump campaign and what role you mean. For example, in 2016:  \\n• Corey Lewandowski was Trump’s campaign manager (Jan–Jun 2016)  \\n• Paul J. Manafort served as camp...  Both assistants provide accurate answers. Assistant A correctly identifies Paul J. Manafort as a former Trump campaign chairman for 2016, but Assistant B delves deeper into the different positions held by various individuals during the Trump campaigns, including the 2016 campaign. Both responses are relevant, but Assistant B seeks further clarification, thus demonstrating a higher level of thought in answering the question. Judging based on the criteria of helpfulness, relevance, accuracy, and depth, I would say Assistant B provides a more detailed and comprehensive response. Therefore, my final verdict is: [[B]].      B                     Y                   Y                   Y                 Y                     Y                   Y  The conclusion after checking each criterion is that the submission satisfies all defined criteria.                 Y"
      ],
      "text/html": [
       "<div>\n",
       "<style scoped>\n",
       "    .dataframe tbody tr th:only-of-type {\n",
       "        vertical-align: middle;\n",
       "    }\n",
       "\n",
       "    .dataframe tbody tr th {\n",
       "        vertical-align: top;\n",
       "    }\n",
       "\n",
       "    .dataframe thead th {\n",
       "        text-align: right;\n",
       "    }\n",
       "</style>\n",
       "<table border=\"1\" class=\"dataframe\">\n",
       "  <thead>\n",
       "    <tr style=\"text-align: right;\">\n",
       "      <th></th>\n",
       "      <th>Question</th>\n",
       "      <th>Responder Tool</th>\n",
       "      <th>Revisor Tool</th>\n",
       "      <th>Responder</th>\n",
       "      <th>Revisor</th>\n",
       "      <th>Pairwise Reasoning</th>\n",
       "      <th>Winner</th>\n",
       "      <th>Helpfulness Responder</th>\n",
       "      <th>Helpfulness Revisor</th>\n",
       "      <th>Relevance Responder</th>\n",
       "      <th>Relevance Revisor</th>\n",
       "      <th>Conciseness Responder</th>\n",
       "      <th>Conciseness Revisor</th>\n",
       "      <th>Coherence Responder</th>\n",
       "      <th>Coherence Revisor</th>\n",
       "    </tr>\n",
       "  </thead>\n",
       "  <tbody>\n",
       "    <tr>\n",
       "      <th>0</th>\n",
       "      <td>which American political consultant was a former Trump campaign</td>\n",
       "      <td>True</td>\n",
       "      <td>False</td>\n",
       "      <td>Paul J. Manafort is an American political consultant who served as Donald Trump’s 2016 campaign chairman (sometimes referred to as campaign manager) from June to August 2016....</td>\n",
       "      <td>The question is ambiguous about which Trump campaign and what role you mean. For example, in 2016:  \\n• Corey Lewandowski was Trump’s campaign manager (Jan–Jun 2016)  \\n• Paul J. Manafort served as camp...</td>\n",
       "      <td>Both assistants provide accurate answers. Assistant A correctly identifies Paul J. Manafort as a former Trump campaign chairman for 2016, but Assistant B delves deeper into the different positions held by various individuals during the Trump campaigns, including the 2016 campaign. Both responses are relevant, but Assistant B seeks further clarification, thus demonstrating a higher level of thought in answering the question. Judging based on the criteria of helpfulness, relevance, accuracy, and depth, I would say Assistant B provides a more detailed and comprehensive response. Therefore, my final verdict is: [[B]].</td>\n",
       "      <td>B</td>\n",
       "      <td>Y</td>\n",
       "      <td>Y</td>\n",
       "      <td>Y</td>\n",
       "      <td>Y</td>\n",
       "      <td>Y</td>\n",
       "      <td>Y</td>\n",
       "      <td>The conclusion after checking each criterion is that the submission satisfies all defined criteria.</td>\n",
       "      <td>Y</td>\n",
       "    </tr>\n",
       "  </tbody>\n",
       "</table>\n",
       "</div>"
      ]
     },
     "execution_count": 7,
     "metadata": {},
     "output_type": "execute_result"
    }
   ],
   "execution_count": 7
  },
  {
   "cell_type": "code",
   "id": "f2e7fc86f8b7826f",
   "metadata": {
    "ExecuteTime": {
     "end_time": "2025-05-11T08:54:18.096317Z",
     "start_time": "2025-05-11T08:54:18.094773Z"
    }
   },
   "source": [],
   "outputs": [],
   "execution_count": null
  },
  {
   "metadata": {
    "ExecuteTime": {
     "end_time": "2025-05-11T08:54:24.874960Z",
     "start_time": "2025-05-11T08:54:24.873544Z"
    }
   },
   "cell_type": "code",
   "source": "",
   "id": "75d447d4825e2bf4",
   "outputs": [],
   "execution_count": null
  },
  {
   "metadata": {},
   "cell_type": "code",
   "outputs": [],
   "execution_count": null,
   "source": "",
   "id": "596d453ee21dc5e3"
  }
 ],
 "metadata": {
  "kernelspec": {
   "display_name": "Python 3 (ipykernel)",
   "language": "python",
   "name": "python3"
  },
  "language_info": {
   "codemirror_mode": {
    "name": "ipython",
    "version": 3
   },
   "file_extension": ".py",
   "mimetype": "text/x-python",
   "name": "python",
   "nbconvert_exporter": "python",
   "pygments_lexer": "ipython3",
   "version": "3.11.9"
  }
 },
 "nbformat": 4,
 "nbformat_minor": 5
}
