{
 "cells": [
  {
   "cell_type": "code",
   "id": "initial_id",
   "metadata": {
    "ExecuteTime": {
     "end_time": "2025-05-10T06:06:04.253245Z",
     "start_time": "2025-05-10T06:06:04.243999Z"
    }
   },
   "source": [
    "import json\n",
    "import pandas as pd\n",
    "\n",
    "with open(\"results.json\") as f:\n",
    "    data = json.load(f)\n",
    "\n",
    "# Flachstruktur für tabellarische Darstellung extrahieren\n",
    "rows = []\n",
    "for item in data:\n",
    "    row = {\n",
    "    \"Question\": item[\"question\"],\n",
    "    \"Responder\": item[\"responder_answer\"][:200] + \"...\",\n",
    "    \"Revisor\": item[\"revisor_answer\"][:200] + \"...\",\n",
    "    \"Winner\": item[\"evaluation\"].get(\"pairwise_winner\", \"-\"),\n",
    "    \"Helpfulness R\": item[\"evaluation\"].get(\"helpfulness_responder\", {}).get(\"value\", \"-\"),\n",
    "    \"Helpfulness V\": item[\"evaluation\"].get(\"helpfulness_revisor\", {}).get(\"value\", \"-\"),\n",
    "    \"Relevance R\": item[\"evaluation\"].get(\"relevance_responder\", {}).get(\"value\", \"-\"),\n",
    "    \"Relevance V\": item[\"evaluation\"].get(\"relevance_revisor\", {}).get(\"value\", \"-\"),\n",
    "    \"Conciseness R\": item[\"evaluation\"].get(\"conciseness_responder\", {}).get(\"value\", \"-\"),\n",
    "    \"Conciseness V\": item[\"evaluation\"].get(\"conciseness_revisor\", {}).get(\"value\", \"-\"),\n",
    "    \"Coherence R\": item[\"evaluation\"].get(\"coherence_responder\", {}).get(\"value\", \"-\"),\n",
    "    \"Coherence V\": item[\"evaluation\"].get(\"coherence_revisor\", {}).get(\"value\", \"-\"),\n",
    "}\n",
    "\n",
    "    rows.append(row)\n",
    "\n",
    "df = pd.DataFrame(rows)\n",
    "df.head()\n"
   ],
   "outputs": [
    {
     "data": {
      "text/plain": [
       "                                            Question  \\\n",
       "0  What was the nickname of the 76er who was draf...   \n",
       "1  The physicist who is responsible for identifyi...   \n",
       "\n",
       "                                           Responder  \\\n",
       "0  The 76er drafted 3rd overall in the 2014 NBA D...   \n",
       "1  Isidor Isaac Rabi won the Nobel Prize in Physi...   \n",
       "\n",
       "                                             Revisor Winner Helpfulness R  \\\n",
       "0  Joel Embiid, whom the Philadelphia 76ers selec...   None             Y   \n",
       "1  Isidor Isaac Rabi won the Nobel Prize in Physi...   None             Y   \n",
       "\n",
       "  Helpfulness V Relevance R Relevance V Conciseness R Conciseness V  \\\n",
       "0             Y           Y           Y             Y             Y   \n",
       "1             Y           Y           Y             Y             Y   \n",
       "\n",
       "  Coherence R Coherence V  \n",
       "0           Y           Y  \n",
       "1           Y           Y  "
      ],
      "text/html": [
       "<div>\n",
       "<style scoped>\n",
       "    .dataframe tbody tr th:only-of-type {\n",
       "        vertical-align: middle;\n",
       "    }\n",
       "\n",
       "    .dataframe tbody tr th {\n",
       "        vertical-align: top;\n",
       "    }\n",
       "\n",
       "    .dataframe thead th {\n",
       "        text-align: right;\n",
       "    }\n",
       "</style>\n",
       "<table border=\"1\" class=\"dataframe\">\n",
       "  <thead>\n",
       "    <tr style=\"text-align: right;\">\n",
       "      <th></th>\n",
       "      <th>Question</th>\n",
       "      <th>Responder</th>\n",
       "      <th>Revisor</th>\n",
       "      <th>Winner</th>\n",
       "      <th>Helpfulness R</th>\n",
       "      <th>Helpfulness V</th>\n",
       "      <th>Relevance R</th>\n",
       "      <th>Relevance V</th>\n",
       "      <th>Conciseness R</th>\n",
       "      <th>Conciseness V</th>\n",
       "      <th>Coherence R</th>\n",
       "      <th>Coherence V</th>\n",
       "    </tr>\n",
       "  </thead>\n",
       "  <tbody>\n",
       "    <tr>\n",
       "      <th>0</th>\n",
       "      <td>What was the nickname of the 76er who was draf...</td>\n",
       "      <td>The 76er drafted 3rd overall in the 2014 NBA D...</td>\n",
       "      <td>Joel Embiid, whom the Philadelphia 76ers selec...</td>\n",
       "      <td>None</td>\n",
       "      <td>Y</td>\n",
       "      <td>Y</td>\n",
       "      <td>Y</td>\n",
       "      <td>Y</td>\n",
       "      <td>Y</td>\n",
       "      <td>Y</td>\n",
       "      <td>Y</td>\n",
       "      <td>Y</td>\n",
       "    </tr>\n",
       "    <tr>\n",
       "      <th>1</th>\n",
       "      <td>The physicist who is responsible for identifyi...</td>\n",
       "      <td>Isidor Isaac Rabi won the Nobel Prize in Physi...</td>\n",
       "      <td>Isidor Isaac Rabi won the Nobel Prize in Physi...</td>\n",
       "      <td>None</td>\n",
       "      <td>Y</td>\n",
       "      <td>Y</td>\n",
       "      <td>Y</td>\n",
       "      <td>Y</td>\n",
       "      <td>Y</td>\n",
       "      <td>Y</td>\n",
       "      <td>Y</td>\n",
       "      <td>Y</td>\n",
       "    </tr>\n",
       "  </tbody>\n",
       "</table>\n",
       "</div>"
      ]
     },
     "execution_count": 2,
     "metadata": {},
     "output_type": "execute_result"
    }
   ],
   "execution_count": 2
  },
  {
   "cell_type": "code",
   "id": "797b51e18b647f0b",
   "metadata": {
    "ExecuteTime": {
     "end_time": "2025-05-10T06:06:04.284781Z",
     "start_time": "2025-05-10T06:06:04.283607Z"
    }
   },
   "source": [],
   "outputs": [],
   "execution_count": null
  }
 ],
 "metadata": {
  "kernelspec": {
   "display_name": "Python 3 (ipykernel)",
   "language": "python",
   "name": "python3"
  },
  "language_info": {
   "codemirror_mode": {
    "name": "ipython",
    "version": 3
   },
   "file_extension": ".py",
   "mimetype": "text/x-python",
   "name": "python",
   "nbconvert_exporter": "python",
   "pygments_lexer": "ipython3",
   "version": "3.11.9"
  }
 },
 "nbformat": 4,
 "nbformat_minor": 5
}
